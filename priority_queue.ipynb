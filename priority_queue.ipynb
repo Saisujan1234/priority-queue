{
  "nbformat": 4,
  "nbformat_minor": 0,
  "metadata": {
    "colab": {
      "name": "priority queue.ipynb",
      "provenance": []
    },
    "kernelspec": {
      "name": "python3",
      "display_name": "Python 3"
    },
    "language_info": {
      "name": "python"
    }
  },
  "cells": [
    {
      "cell_type": "code",
      "execution_count": 1,
      "metadata": {
        "id": "TbE4tLLRXVux",
        "outputId": "8885466a-10ac-4c23-884a-9ece50ba5c56",
        "colab": {
          "base_uri": "https://localhost:8080/"
        }
      },
      "outputs": [
        {
          "output_type": "stream",
          "name": "stdout",
          "text": [
            "12 1 14 7\n",
            "14\n",
            "12\n",
            "7\n",
            "1\n"
          ]
        }
      ],
      "source": [
        "# A simple implementation of Priority Queue\n",
        "# using Queue.\n",
        "class PriorityQueue(object):\n",
        "\tdef __init__(self):\n",
        "\t\tself.queue = []\n",
        "\n",
        "\tdef __str__(self):\n",
        "\t\treturn ' '.join([str(i) for i in self.queue])\n",
        "\n",
        "\t# for checking if the queue is empty\n",
        "\tdef isEmpty(self):\n",
        "\t\treturn len(self.queue) == 0\n",
        "\n",
        "\t# for inserting an element in the queue\n",
        "\tdef insert(self, data):\n",
        "\t\tself.queue.append(data)\n",
        "\n",
        "\t# for popping an element based on Priority\n",
        "\tdef delete(self):\n",
        "\t\ttry:\n",
        "\t\t\tmax = 0\n",
        "\t\t\tfor i in range(len(self.queue)):\n",
        "\t\t\t\tif self.queue[i] > self.queue[max]:\n",
        "\t\t\t\t\tmax = i\n",
        "\t\t\titem = self.queue[max]\n",
        "\t\t\tdel self.queue[max]\n",
        "\t\t\treturn item\n",
        "\t\texcept IndexError:\n",
        "\t\t\tprint()\n",
        "\t\t\texit()\n",
        "\n",
        "if __name__ == '__main__':\n",
        "\tmyQueue = PriorityQueue()\n",
        "\tmyQueue.insert(12)\n",
        "\tmyQueue.insert(1)\n",
        "\tmyQueue.insert(14)\n",
        "\tmyQueue.insert(7)\n",
        "\tprint(myQueue)\t\t\n",
        "\twhile not myQueue.isEmpty():\n",
        "\t\tprint(myQueue.delete())\n"
      ]
    }
  ]
}